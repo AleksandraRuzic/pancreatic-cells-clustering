{
 "cells": [
  {
   "cell_type": "markdown",
   "metadata": {},
   "source": [
    "# Klasterovanje po grupama"
   ]
  },
  {
   "cell_type": "code",
   "execution_count": null,
   "metadata": {},
   "outputs": [],
   "source": [
    "import numpy as np\n",
    "import pandas as pd\n",
    "\n",
    "group_files = [[\"GSM2699154/2699154_prep_file3.csv\", \"GSM2699155/2699155_prep_file3.csv\",\n",
    "               \"GSM3140916/3140916_prep_file3.csv\"],\n",
    "              [\"GSM2699157/2699157_prep_file3.csv\", \"GSM3140917/3140917_prep_file3.csv\",\n",
    "               \"GSM3140918/3140918_prep_file3.csv\"],\n",
    "              [\"GSM3195456/3195456_prep_file3.csv\", \"GSM3488509/3488509_prep_file3.csv\"],\n",
    "               [\"GSM3852752/3852752_prep_file3.csv\", \"GSM3852753/3852753_prep_file3.csv\",\n",
    "                 \"GSM3852754/3852754_prep_file3.csv\", \"GSM3852755/3852755_prep_file3.csv\"],\n",
    "                [\"GSM3140915/3140915_prep_file3.csv\", \"GSM3140916/3140916_prep_file3.csv\",\n",
    "                 \"GSM3140917/3140917_prep_file3.csv\", \"GSM3140918/3140918_prep_file3.csv\"]]\n",
    "\n",
    "group_filepaths = [\"grupe/14.dan_1/\", \"grupe/17.dan/\", \"grupe/14.dan_2/\",\n",
    "                   \"grupe/mesavina1/\", \"grupe/mesavina2/\"]"
   ]
  },
  {
   "cell_type": "markdown",
   "metadata": {},
   "source": [
    "## Pravljenje fajlova"
   ]
  },
  {
   "cell_type": "code",
   "execution_count": null,
   "metadata": {},
   "outputs": [],
   "source": [
    "for i in range(0, len(group_files)):\n",
    "    df = pd.DataFrame()\n",
    "    for f in group_files[i]:\n",
    "        df = df.append(pd.read_csv(f, index_col = 0))\n",
    "    df.to_csv(group_filepaths[i]+\"group.csv\")"
   ]
  },
  {
   "cell_type": "markdown",
   "metadata": {},
   "source": [
    "## Pravljenje tsne"
   ]
  },
  {
   "cell_type": "code",
   "execution_count": null,
   "metadata": {},
   "outputs": [],
   "source": [
    "from sklearn.manifold import TSNE\n",
    "from sklearn.decomposition import PCA\n",
    "\n",
    "for i in range(0, len(group_files)):\n",
    "    df = pd.read_csv(group_filepaths[i]+\"group.csv\", index_col = 0)\n",
    "    pca = PCA()\n",
    "    data_pca = pd.DataFrame(pca.fit_transform(df))\n",
    "    for l in range(1, len(df.columns), 50):\n",
    "        if pca.explained_variance_ratio_[:l].sum() >= 0.95:\n",
    "            x = l\n",
    "            break\n",
    "    tsne_data = TSNE(n_iter = 2000).fit_transform(data_pca[data_pca.columns[:x]])\n",
    "    tsne_data = pd.DataFrame(tsne_data)\n",
    "    tsne_data.set_index(df.index, inplace = True)\n",
    "    tsne_data.to_csv(group_filepaths[i] + \"tsne_file.csv\")"
   ]
  },
  {
   "cell_type": "markdown",
   "metadata": {},
   "source": [
    "## Klasterovanje"
   ]
  },
  {
   "cell_type": "code",
   "execution_count": null,
   "metadata": {},
   "outputs": [],
   "source": [
    "import matplotlib.pyplot as plt\n",
    "from sklearn.cluster import SpectralClustering\n",
    "from sklearn.cluster import KMeans\n",
    "from sklearn.metrics import silhouette_score, calinski_harabasz_score, davies_bouldin_score\n",
    "\n",
    "\n",
    "\"\"\"ocene_ss = pd.DataFrame(index = list(map(lambda x : x[6:-1], group_filepaths)),\n",
    "                     columns = [\"2\", \"3\", \"4\", \"5\", \"6\", \"7\"])\n",
    "ocene_db = pd.DataFrame(index = list(map(lambda x : x[6:-1], group_filepaths)),\n",
    "                     columns = [\"2\", \"3\", \"4\", \"5\", \"6\", \"7\"])\n",
    "ocene_ch = pd.DataFrame(index = list(map(lambda x : x[6:-1], group_filepaths)),\n",
    "                     columns = [\"2\", \"3\", \"4\", \"5\", \"6\", \"7\"])\"\"\"\n",
    "\n",
    "ocene_ss = pd.read_csv(\"Ocene/km_grupe_ss.csv\", index_col = 0).append(\n",
    "    pd.DataFrame(index = list(map(lambda x : x[6:-1], group_filepaths)),columns = [\"2\", \"3\", \"4\", \"5\", \"6\", \"7\"]))\n",
    "ocene_db = pd.read_csv(\"Ocene/km_grupe_db.csv\", index_col = 0).append(\n",
    "    pd.DataFrame(index = list(map(lambda x : x[6:-1], group_filepaths)),columns = [\"2\", \"3\", \"4\", \"5\", \"6\", \"7\"]))\n",
    "ocene_ch = pd.read_csv(\"Ocene/km_grupe_ch.csv\", index_col = 0).append(\n",
    "    pd.DataFrame(index = list(map(lambda x : x[6:-1], group_filepaths)),columns = [\"2\", \"3\", \"4\", \"5\", \"6\", \"7\"]))\n",
    "\n",
    "#ocene_ss = pd.read_csv(\"Ocene/spec_grupe_ss.csv\", index_col = 0).append(\n",
    "#    pd.DataFrame(index = list(map(lambda x : x[6:-1], group_filepaths)),columns = [\"2\", \"3\", \"4\", \"5\", \"6\", \"7\"]))\n",
    "#ocene_db = pd.read_csv(\"Ocene/spec_grupe_db.csv\", index_col = 0).append(\n",
    "#    pd.DataFrame(index = list(map(lambda x : x[6:-1], group_filepaths)),columns = [\"2\", \"3\", \"4\", \"5\", \"6\", \"7\"]))\n",
    "#ocene_ch = pd.read_csv(\"Ocene/spec_grupe_ch.csv\", index_col = 0).append(\n",
    "#    pd.DataFrame(index = list(map(lambda x : x[6:-1], group_filepaths)),columns = [\"2\", \"3\", \"4\", \"5\", \"6\", \"7\"]))\n",
    "\n",
    "colors = [\"red\", \"blue\", \"green\", \"yellow\", \"orange\", \"black\", \"purple\"]\n",
    "\n",
    "for i in range(0, len(group_files)):\n",
    "    \n",
    "    df = pd.read_csv(group_filepaths[i]+\"group.csv\", index_col = 0)\n",
    "    tsne_data = pd.read_csv(group_filepaths[i] + \"tsne_file.csv\", index_col = 0)\n",
    "\n",
    "    labels = pd.DataFrame(index = df.index, columns = [\"2\", \"3\", \"4\", \"5\", \"6\", \"7\"])\n",
    "    for num_of_clus in range(2, 8):\n",
    "        \n",
    "        model = KMeans(num_of_clus)\n",
    "        model.fit(df)\n",
    "        #model = SpectralClustering(num_of_clus, affinity='nearest_neighbors')\n",
    "        #model.fit(df.values)\n",
    "        \n",
    "        fig = plt.figure(figsize= (20,15))\n",
    "        for j in range(0, num_of_clus):\n",
    "            plt.scatter(tsne_data.loc[model.labels_ == j][tsne_data.columns[0]],\n",
    "                        tsne_data.loc[model.labels_ == j][tsne_data.columns[1]], c=colors[j])\n",
    "            \n",
    "        ocene_ss.at[group_filepaths[i][6:-1], str(num_of_clus)] = silhouette_score(df, model.labels_)\n",
    "        ocene_db.at[group_filepaths[i][6:-1], str(num_of_clus)] = davies_bouldin_score(df, model.labels_)\n",
    "        ocene_ch.at[group_filepaths[i][6:-1], str(num_of_clus)] = calinski_harabasz_score(df, model.labels_)\n",
    "        \n",
    "        plt.title('KM: ' +str(num_of_clus) +\n",
    "                  ' Silhouette Score:' +str(ocene_ss.at[group_filepaths[i][6:-1], str(num_of_clus)])+\n",
    "                  ', CH Score: ' + str(ocene_ch.at[group_filepaths[i][6:-1], str(num_of_clus)])+ \n",
    "                  ', DB Score: ' + str(ocene_db.at[group_filepaths[i][6:-1], str(num_of_clus)]))\n",
    "        #plt.title('Spektralno: ' +str(num_of_clus) +\n",
    "        #          ' Silhouette Score:' +str(ocene_ss.at[group_filepaths[i][6:-1], str(num_of_clus)])+\n",
    "        #          ', CH Score: ' + str(ocene_ch.at[group_filepaths[i][6:-1], str(num_of_clus)])+ \n",
    "        #          ', DB Score: ' + str(ocene_db.at[group_filepaths[i][6:-1], str(num_of_clus)]))\n",
    "        \n",
    "        plt.show()\n",
    "        \n",
    "        fig.savefig(group_filepaths[i]+ \"KM/KM_\" + str(num_of_clus))\n",
    "        #fig.savefig(group_filepaths[i]+ \"Spec/Spec_\" + str(num_of_clus))\n",
    "        \n",
    "        labels[str(num_of_clus)] = model.labels_\n",
    "        \n",
    "    labels.to_csv(group_filepaths[i]+ \"KM/labels.csv\")\n",
    "    #labels.to_csv(group_filepaths[i]+ \"Spec/labels.csv\")\n",
    "    \n",
    "ocene_ss.to_csv(\"Ocene/km_grupe_ss.csv\")\n",
    "ocene_db.to_csv(\"Ocene/km_grupe_db.csv\")\n",
    "ocene_ch.to_csv(\"Ocene/km_grupe_ch.csv\")\n",
    "\n",
    "#ocene_ss.to_csv(\"Ocene/spec_grupe_ss.csv\")\n",
    "#ocene_db.to_csv(\"Ocene/spec_grupe_db.csv\")\n",
    "#ocene_ch.to_csv(\"Ocene/spec_grupe_ch.csv\")"
   ]
  },
  {
   "cell_type": "code",
   "execution_count": null,
   "metadata": {},
   "outputs": [],
   "source": []
  }
 ],
 "metadata": {
  "kernelspec": {
   "display_name": "Python 3",
   "language": "python",
   "name": "python3"
  },
  "language_info": {
   "codemirror_mode": {
    "name": "ipython",
    "version": 3
   },
   "file_extension": ".py",
   "mimetype": "text/x-python",
   "name": "python",
   "nbconvert_exporter": "python",
   "pygments_lexer": "ipython3",
   "version": "3.7.6"
  }
 },
 "nbformat": 4,
 "nbformat_minor": 4
}
