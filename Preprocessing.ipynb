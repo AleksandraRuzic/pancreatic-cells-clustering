{
 "cells": [
  {
   "cell_type": "code",
   "execution_count": 31,
   "metadata": {},
   "outputs": [],
   "source": [
    "import pandas as pd\n",
    "import numpy as np\n",
    "from functools import reduce"
   ]
  },
  {
   "cell_type": "code",
   "execution_count": 32,
   "metadata": {},
   "outputs": [
    {
     "data": {
      "text/html": [
       "<div>\n",
       "<style scoped>\n",
       "    .dataframe tbody tr th:only-of-type {\n",
       "        vertical-align: middle;\n",
       "    }\n",
       "\n",
       "    .dataframe tbody tr th {\n",
       "        vertical-align: top;\n",
       "    }\n",
       "\n",
       "    .dataframe thead th {\n",
       "        text-align: right;\n",
       "    }\n",
       "</style>\n",
       "<table border=\"1\" class=\"dataframe\">\n",
       "  <thead>\n",
       "    <tr style=\"text-align: right;\">\n",
       "      <th></th>\n",
       "      <th>ENSMUSG_ID</th>\n",
       "      <th>mm10</th>\n",
       "    </tr>\n",
       "  </thead>\n",
       "  <tbody>\n",
       "    <tr>\n",
       "      <th>0</th>\n",
       "      <td>ENSMUSG00000101435</td>\n",
       "      <td>mm10_Gm28772</td>\n",
       "    </tr>\n",
       "    <tr>\n",
       "      <th>1</th>\n",
       "      <td>ENSMUSG00000044244</td>\n",
       "      <td>mm10_Il20rb</td>\n",
       "    </tr>\n",
       "    <tr>\n",
       "      <th>2</th>\n",
       "      <td>ENSMUSG00000069094</td>\n",
       "      <td>mm10_Pde7a</td>\n",
       "    </tr>\n",
       "    <tr>\n",
       "      <th>3</th>\n",
       "      <td>ENSMUSG00000105704</td>\n",
       "      <td>mm10_Gm43055</td>\n",
       "    </tr>\n",
       "    <tr>\n",
       "      <th>4</th>\n",
       "      <td>ENSMUSG00000033871</td>\n",
       "      <td>mm10_Ppargc1b</td>\n",
       "    </tr>\n",
       "  </tbody>\n",
       "</table>\n",
       "</div>"
      ],
      "text/plain": [
       "           ENSMUSG_ID           mm10\n",
       "0  ENSMUSG00000101435   mm10_Gm28772\n",
       "1  ENSMUSG00000044244    mm10_Il20rb\n",
       "2  ENSMUSG00000069094     mm10_Pde7a\n",
       "3  ENSMUSG00000105704   mm10_Gm43055\n",
       "4  ENSMUSG00000033871  mm10_Ppargc1b"
      ]
     },
     "execution_count": 32,
     "metadata": {},
     "output_type": "execute_result"
    }
   ],
   "source": [
    "common_mouse_list_data = pd.read_csv(\"common_mouse_list.csv\")\n",
    "common_mouse_list_filtered = common_mouse_list_data.loc[:,[\"ENSMUSG_ID\", \"mm10\"]]\n",
    "\n",
    "sum_num_of_rows =0\n",
    "common_mouse_list_filtered_special = common_mouse_list_filtered\n",
    "\n",
    "list_of_filepaths = [\"GSM2699154/GSM2699154_E14_B1.csv\", \"GSM2699155/GSM2699155_E14_B2.csv\",\n",
    "                     \"GSM2699156/GSM2699156_E12_B2.csv\", \"GSM2699157/GSM2699157_E17_B2.csv\",\n",
    "                     \"GSM3140915/GSM3140915_E12_v2.csv\", \"GSM3140916/GSM3140916_E14_v2.csv\",\n",
    "                     \"GSM3140917/GSM3140917_E17_1_v2.csv\", \"GSM3140918/GSM3140918_E17_2_v2.csv\",\n",
    "                     \"GSM3140919/GSM3140919_Fev_Cre_noreporter.csv\", \"GSM3140920/GSM3140920_Fev_Cre_reporter.csv\",\n",
    "                     \"GSM3195456/GSM3195456_10XGenomics_Pancreas_E14-5_1_matrix.csv\",\n",
    "                     \"GSM3488509/GSM3488509_10XGenomics_Pancreas_E14-5_2_matrix.csv\", \"GSM3852752/matrix.csv\",\n",
    "                     \"GSM3852753/matrix.csv\", \"GSM3852754/matrix.csv\", \"GSM3852755/matrix.csv\"]\n",
    "\n",
    "common_mouse_list_filtered_special.head()"
   ]
  },
  {
   "cell_type": "code",
   "execution_count": null,
   "metadata": {},
   "outputs": [],
   "source": [
    "def update_cols_intersect(num_of_file):\n",
    "    \n",
    "    if num_of_file == 0:\n",
    "        cols_intersect = pd.DataFrame([np.sum(aggregate_cols.iloc[x] >0)\n",
    "                               for x in range(0, aggregate_cols.shape[0])]).transpose()\n",
    "        cols_intersect.columns = gene_cols\n",
    "\n",
    "    else:\n",
    "        cols_intersect = pd.read_csv(\"presek_kolona.csv\")\n",
    "        cols_intersect = cols_intersect.drop(\"Unnamed: 0\", axis =1)\n",
    "        add_cols_intersect = pd.DataFrame([np.sum(aggregate_cols.iloc[i, :] >0)\n",
    "              for i in range(0, aggregate_cols.shape[0])]).transpose()\n",
    "        add_cols_intersect.columns = gene_cols\n",
    "        x = cols_intersect.columns.intersection(add_cols_intersect.columns)\n",
    "        for cols in set(cols_intersect.columns):\n",
    "            if cols not in x:\n",
    "                cols_intersect = cols_intersect.drop(cols, axis = 1)\n",
    "        for cols in set(add_cols_intersect.columns):\n",
    "            if cols not in x:\n",
    "                add_cols_intersect = add_cols_intersect.drop(cols, axis = 1)\n",
    "        \n",
    "\n",
    "        cols_intersect = cols_intersect.add(add_cols_intersect)\n",
    "\n",
    "    cols_intersect.to_csv(\"presek_kolona.csv\")"
   ]
  },
  {
   "cell_type": "code",
   "execution_count": 40,
   "metadata": {},
   "outputs": [],
   "source": [
    "def prep(filepath, num_of_file):\n",
    "    sample_data = pd.read_csv(filepath)\n",
    "    sample_id = filepath[3:10] + '_'\n",
    "    \n",
    "    sample_data_filtered = common_mouse_list_filtered.set_index(\"ENSMUSG_ID\").join(sample_data.set_index(\"Index\"),\n",
    "                                                                                   how = \"inner\")\n",
    "            \n",
    "    gene_cols = sample_data_filtered.index.tolist()\n",
    "    aggregate_cols = sample_data_filtered.drop(\"mm10\", axis =1).reset_index().drop(\"index\", axis =1)\n",
    "\n",
    "    update_cols_intersect(num_of_file)\n",
    "    \n",
    "    sample_data_filtered.drop(\"mm10\", axis =1, inplace =True)\n",
    "    sample_data_filtered_transposed = sample_data_filtered.transpose()\n",
    "    num_rows = sample_data_filtered_transposed.shape[0]\n",
    "    sample_data_filtered_transposed = sample_data_filtered_transposed.set_index(pd.Series(\n",
    "        [sample_id + str(x) for x in range(1, num_rows+1)]))\n",
    "    sample_data_filtered_transposed.to_csv(filepath[:11] + sample_id + \"prep_file.csv\")\n",
    "    \n",
    "    return sample_data_filtered.shape[1]"
   ]
  },
  {
   "cell_type": "code",
   "execution_count": null,
   "metadata": {},
   "outputs": [],
   "source": [
    "sum_num_of_rows = 0\n",
    "i = 0\n",
    "for filepath in list_of_filepaths:\n",
    "    sum_num_of_rows += prep(filepath, i)\n",
    "    i += 1"
   ]
  },
  {
   "cell_type": "code",
   "execution_count": 48,
   "metadata": {},
   "outputs": [],
   "source": [
    "def filter_cols(filepath):\n",
    "    \n",
    "    prep_file = filepath[:11] + filepath[3:10] + '_prep_file.csv'    \n",
    "    sample_data = pd.read_csv(prep_file)\n",
    "    sample_data = sample_data.set_index(\"Unnamed: 0\")\n",
    "    del sample_data.index.name\n",
    "    \n",
    "    for cols in sample_data.columns:\n",
    "        if cols not in cols_intersect:\n",
    "            sample_data = sample_data.drop(cols, axis = 1)\n",
    "    \n",
    "    for i in sample_data.index:\n",
    "        if np.sum(sample_data.loc[i, :]) < 1000 or np.sum(sample_data.loc[i, :] > 0) < 500:\n",
    "            sample_data = sample_data.drop(i, axis =0)\n",
    "            \n",
    "    sample_data.to_csv(prep_file[:28] + '2.csv')\n",
    "    "
   ]
  },
  {
   "cell_type": "code",
   "execution_count": null,
   "metadata": {},
   "outputs": [],
   "source": [
    "percentage = sum_num_of_rows / 100\n",
    "cols_intersect = pd.read_csv(\"presek_kolona.csv\")\n",
    "cols_intersect = zip(cols_intersect.columns, cols_intersect.iloc[0])\n",
    "cols_intersect = set(map(lambda x : x[0], filter(lambda x : x[1] > percentage, cols_intersect)))"
   ]
  },
  {
   "cell_type": "code",
   "execution_count": null,
   "metadata": {},
   "outputs": [],
   "source": [
    "for filepath in list_of_filepaths:\n",
    "    filter_cols(filepath)"
   ]
  },
  {
   "cell_type": "code",
   "execution_count": 81,
   "metadata": {},
   "outputs": [],
   "source": [
    "def rename(filepath):\n",
    "    prep_file = filepath[:11] + filepath[3:10] + '_prep_file2.csv'\n",
    "    sample = pd.read_csv(prep_file)\n",
    "    columns = ['id']\n",
    "    i = 0\n",
    "    for column in sample.columns:\n",
    "        if i == 0:\n",
    "            i += 1\n",
    "            continue\n",
    "        columns.append('M' + column[-5:] + common_mouse_list_new.loc[column, 'long'])\n",
    "\n",
    "    sample.columns = columns\n",
    "    \n",
    "    sample = sample.reset_index()\n",
    "    sample = sample.set_index('id')\n",
    "    sample = sample.drop('index', axis = 1)\n",
    "    \n",
    "    sample.to_csv(prep_file[:28] + '3.csv')"
   ]
  },
  {
   "cell_type": "code",
   "execution_count": null,
   "metadata": {},
   "outputs": [],
   "source": [
    "for filepath in list_of_filepaths:\n",
    "    rename(filepath)"
   ]
  }
 ],
 "metadata": {
  "kernelspec": {
   "display_name": "Python 3",
   "language": "python",
   "name": "python3"
  },
  "language_info": {
   "codemirror_mode": {
    "name": "ipython",
    "version": 3
   },
   "file_extension": ".py",
   "mimetype": "text/x-python",
   "name": "python",
   "nbconvert_exporter": "python",
   "pygments_lexer": "ipython3",
   "version": "3.7.6"
  }
 },
 "nbformat": 4,
 "nbformat_minor": 2
}
