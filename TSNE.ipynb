{
 "cells": [
  {
   "cell_type": "code",
   "execution_count": 1,
   "metadata": {},
   "outputs": [],
   "source": [
    "import pandas as pd\n",
    "import numpy as np\n",
    "from sklearn.manifold import TSNE\n",
    "from sklearn.decomposition import PCA\n",
    "import matplotlib.pyplot as plt"
   ]
  },
  {
   "cell_type": "code",
   "execution_count": 2,
   "metadata": {},
   "outputs": [],
   "source": [
    "list_of_filepaths = [\"GSM2699154/2699154_prep_file3.csv\", \"GSM2699155/2699155_prep_file3.csv\",\n",
    "                     \"GSM2699156/2699156_prep_file3.csv\", \"GSM2699157/2699157_prep_file3.csv\",\n",
    "                     \"GSM3140915/3140915_prep_file3.csv\", \"GSM3140916/3140916_prep_file3.csv\",\n",
    "                     \"GSM3140917/3140917_prep_file3.csv\", \"GSM3140918/3140918_prep_file3.csv\",\n",
    "                     \"GSM3140919/3140919_prep_file3.csv\", \"GSM3140920/3140920_prep_file3.csv\",\n",
    "                     \"GSM3195456/3195456_prep_file3.csv\", \"GSM3488509/3488509_prep_file3.csv\",\n",
    "                     \"GSM3852752/3852752_prep_file3.csv\", \"GSM3852753/3852753_prep_file3.csv\",\n",
    "                     \"GSM3852754/3852754_prep_file3.csv\", \"GSM3852755/3852755_prep_file3.csv\"]\n",
    "colors = [\"red\", \"blue\", \"green\", \"yellow\", \"orange\", \"purple\", \"black\", \"magenta\", \"brown\", \"cyan\"]"
   ]
  },
  {
   "cell_type": "code",
   "execution_count": 16,
   "metadata": {},
   "outputs": [],
   "source": [
    "for l in list_of_filepaths:\n",
    "    data = pd.read_csv(l, index_col = 0)\n",
    "    data.index.name = None\n",
    "    \n",
    "    pca = PCA()\n",
    "    data_pca = pd.DataFrame(pca.fit_transform(data))\n",
    "    for i in range(1, len(data.columns), 50):\n",
    "        if pca.explained_variance_ratio_[:i].sum() >= 0.95:\n",
    "            x = i\n",
    "            break\n",
    "            \n",
    "    tsne_data = TSNE(n_iter = 2000).fit_transform(data_pca[data_pca.columns[:x]])\n",
    "    tsne_data = pd.DataFrame(tsne_data)\n",
    "    tsne_data.to_csv(l[:19] + \"tsne_file.csv\")\n"
   ]
  },
  {
   "cell_type": "code",
   "execution_count": 3,
   "metadata": {},
   "outputs": [],
   "source": [
    "group_files = [list_of_filepaths[:4], list_of_filepaths[4:10], list_of_filepaths[11:19], list_of_filepaths[20:],\n",
    "               [list_of_filepaths[10], list_of_filepaths[19]]]"
   ]
  },
  {
   "cell_type": "code",
   "execution_count": null,
   "metadata": {},
   "outputs": [],
   "source": [
    "num_group = 1\n",
    "for group in group_files:\n",
    "    \n",
    "    border_index = []\n",
    "    border_index.append(0)\n",
    "    data = pd.DataFrame()\n",
    "    for file in group:\n",
    "        df = pd.read_csv(file, index_col = 0)\n",
    "        df.index.name = None\n",
    "        data = data.append(df)\n",
    "        border_index.append(data.shape[0])\n",
    "    data.to_csv(\"grupe/\" + str(num_group) + \".grupa/prep_group.csv\")\n",
    "    \n",
    "    pca = PCA()\n",
    "    data_pca = pd.DataFrame(pca.fit_transform(data))\n",
    "    for i in range(1, len(data.columns), 50):\n",
    "        if pca.explained_variance_ratio_[:i].sum() >= 0.95:\n",
    "            x = i\n",
    "            break\n",
    "            \n",
    "    tsne_data = TSNE(n_iter = 2000).fit_transform(data_pca[data_pca.columns[:x]])\n",
    "    tsne_data = pd.DataFrame(tsne_data)\n",
    "    tsne_data.to_csv(\"grupe/\" + str(num_group) + \".grupa/\" + \"tnse_file.csv\")\n",
    "    \n",
    "    fig = plt.figure(figsize= (20,15))\n",
    "    for j in range(1, len(border_index)):\n",
    "        plt.scatter(tsne_data[tsne_data.columns[0]].iloc[border_index[j-1]:border_index[j]],\n",
    "                    tsne_data[tsne_data.columns[1]].iloc[border_index[j-1]:border_index[j]], c=colors[j-1],\n",
    "                    label=group[j-1][11:18])\n",
    "    plt.title('Group ' +str(num_group))\n",
    "    plt.legend()\n",
    "    fig.savefig(\"grupe/\" + str(num_group) + \".grupa/plot\")\n",
    "    num_group += 1"
   ]
  }
 ],
 "metadata": {
  "kernelspec": {
   "display_name": "Python 3",
   "language": "python",
   "name": "python3"
  },
  "language_info": {
   "codemirror_mode": {
    "name": "ipython",
    "version": 3
   },
   "file_extension": ".py",
   "mimetype": "text/x-python",
   "name": "python",
   "nbconvert_exporter": "python",
   "pygments_lexer": "ipython3",
   "version": "3.7.6"
  }
 },
 "nbformat": 4,
 "nbformat_minor": 2
}
