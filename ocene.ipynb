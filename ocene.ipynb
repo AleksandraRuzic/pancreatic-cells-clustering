{
 "cells": [
  {
   "cell_type": "code",
   "execution_count": 3,
   "metadata": {},
   "outputs": [],
   "source": [
    "import numpy as np\n",
    "import pandas as pd\n",
    "from sklearn.metrics import silhouette_score\n",
    "from sklearn.metrics import calinski_harabasz_score\n",
    "from sklearn.metrics import davies_bouldin_score\n",
    "\n",
    "list_of_filepaths = [\"GSM2699154/2699154_prep_file3.csv\", \"GSM2699155/2699155_prep_file3.csv\",\n",
    "                     \"GSM2699156/2699156_prep_file3.csv\", \"GSM2699157/2699157_prep_file3.csv\",\n",
    "                     \"GSM3140915/3140915_prep_file3.csv\", \"GSM3140916/3140916_prep_file3.csv\",\n",
    "                     \"GSM3140917/3140917_prep_file3.csv\", \"GSM3140918/3140918_prep_file3.csv\",\n",
    "                     \"GSM3140919/3140919_prep_file3.csv\", \"GSM3140920/3140920_prep_file3.csv\",\n",
    "                     \"GSM3195456/3195456_prep_file3.csv\", \"GSM3488509/3488509_prep_file3.csv\",\n",
    "                     \"GSM3852752/3852752_prep_file3.csv\", \"GSM3852753/3852753_prep_file3.csv\",\n",
    "                     \"GSM3852754/3852754_prep_file3.csv\", \"GSM3852755/3852755_prep_file3.csv\"]\n",
    "\n",
    "colors = [\"red\", \"blue\", \"green\", \"yellow\", \"orange\"]"
   ]
  },
  {
   "cell_type": "code",
   "execution_count": 8,
   "metadata": {},
   "outputs": [],
   "source": [
    "km_ss = pd.DataFrame(index = list(map(lambda x : x[3:10], list_of_filepaths)), \n",
    "                     columns = [\"2\", \"3\", \"4\", \"5\", \"6\", \"7\"])\n",
    "km_db = pd.DataFrame(index = list(map(lambda x : x[3:10], list_of_filepaths)),\n",
    "                     columns = [\"2\", \"3\", \"4\", \"5\", \"6\", \"7\"])\n",
    "km_ch = pd.DataFrame(index = list(map(lambda x : x[3:10], list_of_filepaths)),\n",
    "                     columns = [\"2\", \"3\", \"4\", \"5\", \"6\", \"7\"])\n",
    "\n",
    "spec_ss = pd.DataFrame(index = list(map(lambda x : x[3:10], list_of_filepaths)),\n",
    "                       columns = [\"2\", \"3\", \"4\", \"5\", \"6\", \"7\"])\n",
    "spec_db = pd.DataFrame(index = list(map(lambda x : x[3:10], list_of_filepaths)),\n",
    "                       columns = [\"2\", \"3\", \"4\", \"5\", \"6\", \"7\"])\n",
    "spec_ch = pd.DataFrame(index = list(map(lambda x : x[3:10], list_of_filepaths)),\n",
    "                       columns = [\"2\", \"3\", \"4\", \"5\", \"6\", \"7\"])"
   ]
  },
  {
   "cell_type": "code",
   "execution_count": 17,
   "metadata": {},
   "outputs": [],
   "source": [
    "for f in list_of_filepaths:\n",
    "    labels_km = pd.read_csv(f[:11] + \"KM/\" + f[11:19] + \"labels_KM.csv\", index_col = 0)\n",
    "    labels_spec = pd.read_csv(f[:11] + \"Spec/\" + f[11:19] +\"labels_spec.csv\", index_col = 0)\n",
    "    data = labels1 = pd.read_csv(f, index_col = 0)\n",
    "    for col in km_ss.columns:\n",
    "        km_ss.at[f[3:10], col] = silhouette_score(data, labels_km[col])\n",
    "        spec_ss.at[f[3:10], col] = silhouette_score(data, labels_spec[col])\n",
    "        \n",
    "        km_db.at[f[3:10], col] = davies_bouldin_score(data, labels_km[col])\n",
    "        spec_db.at[f[3:10], col] = davies_bouldin_score(data, labels_spec[col])\n",
    "        \n",
    "        km_ch.at[f[3:10], col] = calinski_harabasz_score(data, labels_km[col])\n",
    "        spec_ch.at[f[3:10], col] = calinski_harabasz_score(data, labels_spec[col])"
   ]
  },
  {
   "cell_type": "code",
   "execution_count": 18,
   "metadata": {},
   "outputs": [],
   "source": [
    "km_ss.to_csv(\"Ocene/km_ss.csv\")\n",
    "km_ch.to_csv(\"Ocene/km_ch.csv\")\n",
    "km_db.to_csv(\"Ocene/km_db.csv\")\n",
    "\n",
    "spec_ss.to_csv(\"Ocene/spec_ss.csv\")\n",
    "spec_ch.to_csv(\"Ocene/spec_ch.csv\")\n",
    "spec_db.to_csv(\"Ocene/spec_db.csv\")"
   ]
  },
  {
   "cell_type": "code",
   "execution_count": 16,
   "metadata": {},
   "outputs": [
    {
     "data": {
      "text/plain": [
       "'2699154'"
      ]
     },
     "execution_count": 16,
     "metadata": {},
     "output_type": "execute_result"
    }
   ],
   "source": [
    "list_of_filepaths[0][3:10]"
   ]
  },
  {
   "cell_type": "code",
   "execution_count": null,
   "metadata": {},
   "outputs": [],
   "source": []
  }
 ],
 "metadata": {
  "kernelspec": {
   "display_name": "Python 3",
   "language": "python",
   "name": "python3"
  },
  "language_info": {
   "codemirror_mode": {
    "name": "ipython",
    "version": 3
   },
   "file_extension": ".py",
   "mimetype": "text/x-python",
   "name": "python",
   "nbconvert_exporter": "python",
   "pygments_lexer": "ipython3",
   "version": "3.7.6"
  }
 },
 "nbformat": 4,
 "nbformat_minor": 4
}
